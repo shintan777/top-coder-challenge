{
 "cells": [
  {
   "cell_type": "code",
   "execution_count": 5,
   "id": "96347a5c",
   "metadata": {},
   "outputs": [],
   "source": [
    "import pandas as pd\n",
    "import json\n",
    "from sklearn.linear_model import LinearRegression\n",
    "from sklearn.model_selection import train_test_split\n",
    "from sklearn.metrics import mean_squared_error, mean_absolute_error\n",
    "import statsmodels.api as sm\n",
    "from xgboost import XGBRegressor"
   ]
  },
  {
   "cell_type": "code",
   "execution_count": 9,
   "id": "d932db11",
   "metadata": {},
   "outputs": [
    {
     "name": "stdout",
     "output_type": "stream",
     "text": [
      "Intercept: 266.70768050486413\n",
      "Coefficients: [50.05048622  0.44564529  0.38286076]\n",
      "Training MSE: 47734.51387704825\n",
      "Training MAE: 175.49208949851337\n"
     ]
    }
   ],
   "source": [
    "# Step 1: Load data\n",
    "df = pd.read_csv(\"reimbursements.csv\")\n",
    "X = df[[\"trip_duration_days\", \"miles_traveled\", \"total_receipts_amount\"]]\n",
    "y = df[\"expected_output\"]\n",
    "\n",
    "# ========== Linear Regression ==========\n",
    "lr_model = LinearRegression()\n",
    "lr_model.fit(X, y)\n",
    "lr_preds = lr_model.predict(X)\n",
    "print(\"Linear Regression MAE:\", mean_absolute_error(y, lr_preds))\n",
    "\n",
    "# ========== Generalized Linear Model (GLM) ==========\n",
    "X_glm = sm.add_constant(X)  # statsmodels needs explicit intercept\n",
    "glm_model = sm.GLM(y, X_glm, family=sm.families.Gaussian())\n",
    "glm_results = glm_model.fit()\n",
    "glm_preds = glm_results.predict(X_glm)\n",
    "print(\"GLM MAE:\", mean_absolute_error(y, glm_preds))\n",
    "print(glm_results.summary())  # Optional: view detailed model summary\n",
    "\n",
    "# ========== XGBoost Regressor ==========\n",
    "xgb_model = XGBRegressor(n_estimators=100, learning_rate=0.1, verbosity=0)\n",
    "xgb_model.fit(X, y)\n",
    "xgb_preds = xgb_model.predict(X)\n",
    "print(\"XGBoost MAE:\", mean_absolute_error(y, xgb_preds))"
   ]
  },
  {
   "cell_type": "code",
   "execution_count": null,
   "id": "f8fb71df-dcb7-406d-bd43-3767f5587f20",
   "metadata": {},
   "outputs": [],
   "source": []
  }
 ],
 "metadata": {
  "kernelspec": {
   "display_name": "Python [conda env:base] *",
   "language": "python",
   "name": "conda-base-py"
  },
  "language_info": {
   "codemirror_mode": {
    "name": "ipython",
    "version": 3
   },
   "file_extension": ".py",
   "mimetype": "text/x-python",
   "name": "python",
   "nbconvert_exporter": "python",
   "pygments_lexer": "ipython3",
   "version": "3.12.7"
  }
 },
 "nbformat": 4,
 "nbformat_minor": 5
}
